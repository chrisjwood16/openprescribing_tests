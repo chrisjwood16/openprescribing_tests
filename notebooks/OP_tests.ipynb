{
 "cells": [
  {
   "cell_type": "code",
   "execution_count": 4,
   "id": "3e608270-128a-4771-927c-668451a52516",
   "metadata": {},
   "outputs": [],
   "source": [
    "import pandas as pd\n",
    "import bsa_utils"
   ]
  },
  {
   "cell_type": "code",
   "execution_count": 5,
   "id": "a11da267-ef60-4181-ad34-78c4a71de796",
   "metadata": {},
   "outputs": [
    {
     "name": "stdout",
     "output_type": "stream",
     "text": [
      "23362\n",
      "25521\n",
      "consolidated-pharmaceutical-list\n",
      "contractor-details\n",
      "dental-activity-delivered-by-newly-qualified-foundation-dentists\n",
      "dispensing-practice-name-and-address\n",
      "english-contractor-monthly-general-dental-activity\n",
      "english-contractor-monthly-general-dental-and-orthodontic-contractual-dataset\n",
      "english-contractor-monthly-orthodontic-activity\n",
      "english-prescribing-data-epd\n",
      "english-prescribing-dataset-epd-with-snomed-code\n",
      "hormone-replacement-therapy-prescription-prepayment-certificate-hrt-ppc-volumes\n",
      "hospital-prescribing-dispensed-in-the-community\n",
      "national-uda-by-performer-for-financial-years-2016-2024\n",
      "opendata-nhsbsa-net-dataset-foi-25455\n",
      "open-data-portal-usage\n",
      "pharmacy-contract-fp57-refunds\n",
      "pharmacy-openings-and-closures\n",
      "pharmacy-quality-scheme-data-2022-23\n",
      "prescriber-details\n",
      "prescription-cost-analysis-pca-annual-statistics\n",
      "prescription-cost-analysis-pca-monthly-data\n",
      "regional-uda-by-performer\n",
      "secondary-care-medicines-data\n",
      "secondary-care-medicines-data-indicative-price\n"
     ]
    }
   ],
   "source": [
    "bsa_utils.show_available_datasets()"
   ]
  },
  {
   "cell_type": "code",
   "execution_count": 6,
   "id": "a0d72299-ca8e-446c-9dc9-c48c7a8975d3",
   "metadata": {},
   "outputs": [
    {
     "name": "stderr",
     "output_type": "stream",
     "text": [
      "INFO:root:Success for https://opendata.nhsbsa.net/api/3/action/datastore_search_sql?resource_id=EPD_202401&sql=SELECT%20DISTINCT%20BNF_CODE%2C%20BNF_DESCRIPTION%20FROM%20%60EPD_202401%60\n",
      "INFO:root:Success for https://opendata.nhsbsa.net/api/3/action/datastore_search_sql?resource_id=EPD_202404&sql=SELECT%20DISTINCT%20BNF_CODE%2C%20BNF_DESCRIPTION%20FROM%20%60EPD_202404%60\n",
      "INFO:root:Success for https://opendata.nhsbsa.net/api/3/action/datastore_search_sql?resource_id=EPD_202403&sql=SELECT%20DISTINCT%20BNF_CODE%2C%20BNF_DESCRIPTION%20FROM%20%60EPD_202403%60\n",
      "INFO:root:Success for https://opendata.nhsbsa.net/api/3/action/datastore_search_sql?resource_id=EPD_202402&sql=SELECT%20DISTINCT%20BNF_CODE%2C%20BNF_DESCRIPTION%20FROM%20%60EPD_202402%60\n",
      "INFO:root:Processing response data\n",
      "INFO:root:Data processing complete\n"
     ]
    }
   ],
   "source": [
    "#FIND NEW PRODUCTS\n",
    "dataset_id = \"english-prescribing-data-epd\" # Dateset ID\n",
    "date_from = \"201801\" # Can be \"YYYYMM\" or \"earliest\" or \"latest\", default=\"earliest\"\n",
    "date_to = \"latest-1\" # Can be \"YYYYMM\" or \"latest\" or \"latest-1\", default=\"latest\"\n",
    "sql = (\n",
    "    \"SELECT DISTINCT BNF_CODE, BNF_DESCRIPTION \"\n",
    "    \"{FROM_TABLE}\"\n",
    ")\n",
    "results = bsa_utils.FetchData(\"english-prescribing-data-epd\", sql, \"latest-3\", \"latest\", cache=False).results"
   ]
  },
  {
   "cell_type": "code",
   "execution_count": 8,
   "id": "7f06244c-b2a9-4f71-80b3-261c71f4df5c",
   "metadata": {},
   "outputs": [
    {
     "name": "stdout",
     "output_type": "stream",
     "text": [
      "<bound method FetchData.results of <bsa_utils.FetchData object at 0x7f1f64f15820>>\n"
     ]
    }
   ],
   "source": [
    "print (results)"
   ]
  },
  {
   "cell_type": "code",
   "execution_count": 2,
   "id": "baf0ef95-fa18-4eac-9212-936220dd5485",
   "metadata": {},
   "outputs": [
    {
     "ename": "NameError",
     "evalue": "name 'bsa_utils' is not defined",
     "output_type": "error",
     "traceback": [
      "\u001b[0;31m---------------------------------------------------------------------------\u001b[0m",
      "\u001b[0;31mNameError\u001b[0m                                 Traceback (most recent call last)",
      "Cell \u001b[0;32mIn[2], line 11\u001b[0m\n\u001b[1;32m      5\u001b[0m sql \u001b[38;5;241m=\u001b[39m (\n\u001b[1;32m      6\u001b[0m     \u001b[38;5;124m\"\u001b[39m\u001b[38;5;124mSELECT DISTINCT BNF_CODE, BNF_DESCRIPTION \u001b[39m\u001b[38;5;124m\"\u001b[39m\n\u001b[1;32m      7\u001b[0m     \u001b[38;5;124m\"\u001b[39m\u001b[38;5;132;01m{FROM_TABLE}\u001b[39;00m\u001b[38;5;124m\"\u001b[39m\n\u001b[1;32m      8\u001b[0m )\n\u001b[1;32m     10\u001b[0m \u001b[38;5;66;03m# Fetch data using BSA API\u001b[39;00m\n\u001b[0;32m---> 11\u001b[0m df_existing\u001b[38;5;241m=\u001b[39m\u001b[43mbsa_utils\u001b[49m\u001b[38;5;241m.\u001b[39mfetch_data(resource\u001b[38;5;241m=\u001b[39mdataset_id, date_from\u001b[38;5;241m=\u001b[39mdate_from, date_to\u001b[38;5;241m=\u001b[39mdate_to, sql\u001b[38;5;241m=\u001b[39msql, cache\u001b[38;5;241m=\u001b[39m\u001b[38;5;28;01mTrue\u001b[39;00m)\n\u001b[1;32m     13\u001b[0m FetchData(\u001b[38;5;124m\"\u001b[39m\u001b[38;5;124menglish-prescribing-data-epd\u001b[39m\u001b[38;5;124m\"\u001b[39m, sql_query, \u001b[38;5;124m\"\u001b[39m\u001b[38;5;124mlatest-3\u001b[39m\u001b[38;5;124m\"\u001b[39m, \u001b[38;5;124m\"\u001b[39m\u001b[38;5;124mlatest\u001b[39m\u001b[38;5;124m\"\u001b[39m, cache\u001b[38;5;241m=\u001b[39m\u001b[38;5;28;01mTrue\u001b[39;00m)\n\u001b[1;32m     15\u001b[0m \u001b[38;5;66;03m# Save data to file\u001b[39;00m\n\u001b[1;32m     16\u001b[0m \u001b[38;5;66;03m#df.to_csv(\"../data/data.csv\", index=False)\u001b[39;00m\n",
      "\u001b[0;31mNameError\u001b[0m: name 'bsa_utils' is not defined"
     ]
    }
   ],
   "source": [
    "#FIND NEW PRODUCTS\n",
    "dataset_id = \"english-prescribing-data-epd\" # Dateset ID\n",
    "date_from = \"201801\" # Can be \"YYYYMM\" or \"earliest\" or \"latest\", default=\"earliest\"\n",
    "date_to = \"latest-1\" # Can be \"YYYYMM\" or \"latest\" or \"latest-1\", default=\"latest\"\n",
    "sql = (\n",
    "    \"SELECT DISTINCT BNF_CODE, BNF_DESCRIPTION \"\n",
    "    \"{FROM_TABLE}\"\n",
    ")\n",
    "\n",
    "# Fetch data using BSA API\n",
    "df_existing=bsa_utils.fetch_data(resource=dataset_id, date_from=date_from, date_to=date_to, sql=sql, cache=True)\n",
    "\n",
    "FetchData(\"english-prescribing-data-epd\", sql_query, \"latest-3\", \"latest\", cache=True)\n",
    "\n",
    "# Save data to file\n",
    "#df.to_csv(\"../data/data.csv\", index=False)\n",
    "\n",
    "date_from = \"latest\" # Can be \"YYYYMM\" or \"earliest\" or \"latest\", default=\"earliest\"\n",
    "date_to = \"\" # Can be \"YYYYMM\" or \"latest\" or \"latest-1\", default=\"latest\"\n",
    "sql = (\n",
    "    \"SELECT DISTINCT BNF_CODE, BNF_DESCRIPTION, CHEMICAL_SUBSTANCE_BNF_DESCR \"\n",
    "    \"{FROM_TABLE}\"\n",
    ")\n",
    "\n",
    "# Fetch data using BSA API\n",
    "df_latest=bsa_utils.fetch_data(resource=dataset_id, date_from=date_from, date_to=date_to, sql=sql)\n",
    "\n",
    "# Save data to file\n",
    "#df_latest.to_csv(\"../data/data.csv\", index=False)\n",
    "\n",
    "# Compare 2 dataframe - return rows with items which are only in new dataframe.\n",
    "new_items=bsa_utils.show_new_items(df_existing, df_latest)\n",
    "\n",
    "# Temporarily set the display option to show all rows for one print statement\n",
    "with pd.option_context('display.max_rows', None, 'display.max_colwidth', 100):\n",
    "    display(new_items)"
   ]
  },
  {
   "cell_type": "code",
   "execution_count": 4,
   "id": "c73b6834-2457-4e17-89c7-48773d8a5462",
   "metadata": {},
   "outputs": [
    {
     "name": "stdout",
     "output_type": "stream",
     "text": [
      "Initializing fetch_data function\n",
      "Getting a list of available datasets based on date range\n",
      "Generating list of API calls\n",
      "Processing API calls with retries\n",
      "API call successful for URL: https://opendata.nhsbsa.net/api/3/action/datastore_search_sql?resource_id=EPD_202404&sql=SELECT%20DISTINCT%20BNF_CODE%2C%20BNF_DESCRIPTION%20FROM%20%60EPD_202404%60\n"
     ]
    },
    {
     "ename": "NameError",
     "evalue": "name 'res' is not defined",
     "output_type": "error",
     "traceback": [
      "\u001b[0;31m---------------------------------------------------------------------------\u001b[0m",
      "\u001b[0;31mNameError\u001b[0m                                 Traceback (most recent call last)",
      "Cell \u001b[0;32mIn[4], line 11\u001b[0m\n\u001b[1;32m      5\u001b[0m sql \u001b[38;5;241m=\u001b[39m (\n\u001b[1;32m      6\u001b[0m     \u001b[38;5;124m\"\u001b[39m\u001b[38;5;124mSELECT DISTINCT BNF_CODE, BNF_DESCRIPTION \u001b[39m\u001b[38;5;124m\"\u001b[39m\n\u001b[1;32m      7\u001b[0m     \u001b[38;5;124m\"\u001b[39m\u001b[38;5;132;01m{FROM_TABLE}\u001b[39;00m\u001b[38;5;124m\"\u001b[39m\n\u001b[1;32m      8\u001b[0m )\n\u001b[1;32m     10\u001b[0m \u001b[38;5;66;03m# Fetch data using BSA API\u001b[39;00m\n\u001b[0;32m---> 11\u001b[0m df_existing\u001b[38;5;241m=\u001b[39m\u001b[43mbsa_utils\u001b[49m\u001b[38;5;241;43m.\u001b[39;49m\u001b[43mfetch_data\u001b[49m\u001b[43m(\u001b[49m\u001b[43mresource\u001b[49m\u001b[38;5;241;43m=\u001b[39;49m\u001b[43mdataset_id\u001b[49m\u001b[43m,\u001b[49m\u001b[43m \u001b[49m\u001b[43mdate_from\u001b[49m\u001b[38;5;241;43m=\u001b[39;49m\u001b[43mdate_from\u001b[49m\u001b[43m,\u001b[49m\u001b[43m \u001b[49m\u001b[43mdate_to\u001b[49m\u001b[38;5;241;43m=\u001b[39;49m\u001b[43mdate_to\u001b[49m\u001b[43m,\u001b[49m\u001b[43m \u001b[49m\u001b[43msql\u001b[49m\u001b[38;5;241;43m=\u001b[39;49m\u001b[43msql\u001b[49m\u001b[43m)\u001b[49m\n\u001b[1;32m     13\u001b[0m \u001b[38;5;66;03m# Save data to file\u001b[39;00m\n\u001b[1;32m     14\u001b[0m \u001b[38;5;66;03m#df.to_csv(\"../data/data.csv\", index=False)\u001b[39;00m\n\u001b[1;32m     16\u001b[0m date_from \u001b[38;5;241m=\u001b[39m \u001b[38;5;124m\"\u001b[39m\u001b[38;5;124mlatest\u001b[39m\u001b[38;5;124m\"\u001b[39m \u001b[38;5;66;03m# Can be either \"YYYYMM\" or \"earliest\" or \"latest\", default=\"earliest\"\u001b[39;00m\n",
      "File \u001b[0;32m/workspace/notebooks/bsa_utils.py:310\u001b[0m, in \u001b[0;36mfetch_data\u001b[0;34m(resource, sql, date_from, date_to, cache)\u001b[0m\n\u001b[1;32m    308\u001b[0m \u001b[38;5;28;01mif\u001b[39;00m response \u001b[38;5;129;01mand\u001b[39;00m response\u001b[38;5;241m.\u001b[39mok:\n\u001b[1;32m    309\u001b[0m     \u001b[38;5;28mprint\u001b[39m(\u001b[38;5;124mf\u001b[39m\u001b[38;5;124m\"\u001b[39m\u001b[38;5;124mAPI call successful for URL: \u001b[39m\u001b[38;5;132;01m{\u001b[39;00masync_api_calls[idx]\u001b[38;5;132;01m}\u001b[39;00m\u001b[38;5;124m\"\u001b[39m)\n\u001b[0;32m--> 310\u001b[0m     \u001b[43mres\u001b[49m\u001b[38;5;241m.\u001b[39mappend(response)\n\u001b[1;32m    311\u001b[0m     \u001b[38;5;28;01mif\u001b[39;00m cache:\n\u001b[1;32m    312\u001b[0m         cache_file \u001b[38;5;241m=\u001b[39m os\u001b[38;5;241m.\u001b[39mpath\u001b[38;5;241m.\u001b[39mjoin(CACHE_DIR, \u001b[38;5;124mf\u001b[39m\u001b[38;5;124m\"\u001b[39m\u001b[38;5;124mcache_\u001b[39m\u001b[38;5;132;01m{\u001b[39;00m\u001b[38;5;28mlen\u001b[39m(cache_mapping)\u001b[38;5;250m \u001b[39m\u001b[38;5;241m+\u001b[39m\u001b[38;5;250m \u001b[39m\u001b[38;5;241m1\u001b[39m\u001b[38;5;132;01m}\u001b[39;00m\u001b[38;5;124m.json\u001b[39m\u001b[38;5;124m\"\u001b[39m)\n",
      "\u001b[0;31mNameError\u001b[0m: name 'res' is not defined"
     ]
    }
   ],
   "source": [
    "#FIND NEW INHALERS\n",
    "dataset_id = \"english-prescribing-data-epd\" # Dateset ID\n",
    "date_from = \"latest\" # Can be either \"YYYYMM\" or \"earliest\" or \"latest\", default=\"earliest\"\n",
    "date_to = \"latest\" # Can be either \"YYYYMM\" or \"latest\", default=\"latest\"\n",
    "sql = (\n",
    "    \"SELECT DISTINCT BNF_CODE, BNF_DESCRIPTION \"\n",
    "    \"{FROM_TABLE}\"\n",
    ")\n",
    "\n",
    "# Fetch data using BSA API\n",
    "df_existing=bsa_utils.fetch_data(resource=dataset_id, date_from=date_from, date_to=date_to, sql=sql)\n",
    "\n",
    "# Save data to file\n",
    "#df.to_csv(\"../data/data.csv\", index=False)\n",
    "\n",
    "date_from = \"latest\" # Can be either \"YYYYMM\" or \"earliest\" or \"latest\", default=\"earliest\"\n",
    "date_to = \"latest\" # Can be either \"YYYYMM\" or \"latest\", default=\"latest\"\n",
    "sql = (\n",
    "    \"SELECT DISTINCT BNF_CODE, BNF_DESCRIPTION, CHEMICAL_SUBSTANCE_BNF_DESCR \"\n",
    "    \"{FROM_TABLE}\"\n",
    ")\n",
    "\n",
    "# Fetch data using BSA API\n",
    "df_latest=bsa_utils.fetch_data(resource=dataset_id, date_from=date_from, date_to=date_to, sql=sql)\n",
    "\n",
    "# Save data to file\n",
    "#df_latest.to_csv(\"../data/data.csv\", index=False)\n",
    "\n",
    "# Compare 2 dataframe - return rows with items which are only in new dataframe.\n",
    "new_items=bsa_utils.show_new_items(df_existing, df_latest)\n",
    "\n",
    "# Temporarily set the display option to show all rows for one print statement\n",
    "with pd.option_context('display.max_rows', None, 'display.max_colwidth', 100):\n",
    "    display(new_items)"
   ]
  },
  {
   "cell_type": "code",
   "execution_count": null,
   "id": "cd4c0913-4d02-49e7-b8a7-30ad0e971a40",
   "metadata": {},
   "outputs": [],
   "source": []
  }
 ],
 "metadata": {
  "kernelspec": {
   "display_name": "Python 3 (ipykernel)",
   "language": "python",
   "name": "python3"
  },
  "language_info": {
   "codemirror_mode": {
    "name": "ipython",
    "version": 3
   },
   "file_extension": ".py",
   "mimetype": "text/x-python",
   "name": "python",
   "nbconvert_exporter": "python",
   "pygments_lexer": "ipython3",
   "version": "3.12.4"
  }
 },
 "nbformat": 4,
 "nbformat_minor": 5
}
