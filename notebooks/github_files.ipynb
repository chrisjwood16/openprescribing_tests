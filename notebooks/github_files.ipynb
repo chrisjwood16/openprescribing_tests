{
 "cells": [
  {
   "cell_type": "code",
   "execution_count": 6,
   "id": "60b4a0cd-53e8-4aa8-93de-00e08ff938e4",
   "metadata": {},
   "outputs": [],
   "source": [
    "import requests\n",
    "from bs4 import BeautifulSoup\n",
    "import json\n",
    "import os\n",
    "\n",
    "# GitHub URL to scrape the list of JSON files\n",
    "base_url = \"https://github.com/ebmdatalab/openprescribing/tree/main/openprescribing/measures/definitions\"\n",
    "raw_base_url = \"https://raw.githubusercontent.com/ebmdatalab/openprescribing/main/openprescribing/measures/definitions/\""
   ]
  },
  {
   "cell_type": "code",
   "execution_count": 7,
   "id": "9f8ec646-afa9-486b-8758-eb933c984995",
   "metadata": {},
   "outputs": [],
   "source": [
    "def get_json_files_from_github(url):\n",
    "    # Send a request to get the HTML content\n",
    "    response = requests.get(url)\n",
    "    if response.status_code != 200:\n",
    "        raise Exception(f\"Failed to load page {url}\")\n",
    "    \n",
    "    # Parse the page with BeautifulSoup\n",
    "    soup = BeautifulSoup(response.content, \"html.parser\")\n",
    "    \n",
    "    # Find all JSON file links on the page\n",
    "    json_files = []\n",
    "    for link in soup.find_all('a', href=True):\n",
    "        href = link['href']\n",
    "        if href.endswith('.json'):  # Only select .json files\n",
    "            file_name = href.split('/')[-1]\n",
    "            json_files.append(file_name)\n",
    "    \n",
    "    return json_files\n",
    "\n",
    "def load_json_file(file_name):\n",
    "    # Construct the raw GitHub URL for the JSON file\n",
    "    file_url = raw_base_url + file_name\n",
    "    response = requests.get(file_url)\n",
    "    \n",
    "    if response.status_code == 200:\n",
    "        return response.json()  # Return JSON content as a Python dict\n",
    "    else:\n",
    "        raise Exception(f\"Failed to load JSON file {file_name}\")\n"
   ]
  },
  {
   "cell_type": "code",
   "execution_count": 8,
   "id": "1afbc26f-4b4a-4522-8f5a-f2a1c13a81d6",
   "metadata": {},
   "outputs": [],
   "source": [
    "def read_json_files_in_github():\n",
    "    # Define a list of permissible fields for testing_as\n",
    "    permissible_testing_as_fields = [\"numerator_bnf_codes_filter\"]\n",
    "    results = []\n",
    "\n",
    "    # Step 1: Get list of JSON files from the GitHub directory\n",
    "    json_files = get_json_files_from_github(base_url)\n",
    "\n",
    "    # Step 2: Load each JSON file and process it\n",
    "    for file_name in json_files:\n",
    "        try:\n",
    "            filename_without_extension = os.path.splitext(file_name)[0]\n",
    "            \n",
    "            # Read the JSON data using the load_json_file function\n",
    "            json_data = load_json_file(file_name)\n",
    "\n",
    "            # Check if 'testing_measure' exists and is True\n",
    "            if json_data.get('testing_measure') is True:\n",
    "                try:\n",
    "                    # Check if 'testing_type' is not None\n",
    "                    testing_type = json_data.get('testing_type')\n",
    "                    if testing_type is None:\n",
    "                        raise ValueError(f\"In the file {filename_without_extension}, 'testing_type' is not defined.\")\n",
    "                    \n",
    "                    # Ensure 'testing_as' is one of the permissible fields or 'custom'\n",
    "                    if testing_type != 'custom' and testing_type not in permissible_testing_as_fields:\n",
    "                        raise ValueError(f\"In the file {filename_without_extension}, 'testing_type' must be one of {permissible_testing_as_fields} or 'custom'.\")\n",
    "                \n",
    "                    # Prepare the result dictionary\n",
    "                    result = {\n",
    "                        'filename': filename_without_extension,\n",
    "                        'testing_measure': json_data.get('testing_measure'),\n",
    "                        'testing_comments': json_data.get('testing_comments'),\n",
    "                        'testing_type': testing_type\n",
    "                    }\n",
    "                \n",
    "                    # Get data to test against if 'testing_type' is not 'custom'\n",
    "                    if testing_type != 'custom':\n",
    "                        result['testing_type_data'] = json_data.get(testing_type)\n",
    "                        if result['testing_type_data'] is None:\n",
    "                            raise ValueError(f\"In the file {filename_without_extension}, data for '{testing_type}' is missing or invalid.\")\n",
    "                    elif testing_type == 'custom':\n",
    "                        # Handle custom case with include/exclude logic\n",
    "                        result['testing_include'] = json_data.get('testing_include')\n",
    "                        result['testing_exclude'] = json_data.get('testing_exclude')\n",
    "                \n",
    "                        if result['testing_include'] is None or result['testing_exclude'] is None:\n",
    "                            raise ValueError(f\"In the file {filename_without_extension}, both 'testing_include' and 'testing_exclude' must be provided when 'testing_type' is 'custom'.\")\n",
    "                \n",
    "                    # Append the result to the results list\n",
    "                    results.append(result)\n",
    "                \n",
    "                except ValueError as e:\n",
    "                    # Handle specific ValueError\n",
    "                    print(f\"Error in file {filename_without_extension}: {e}\")\n",
    "        \n",
    "        except Exception as e:\n",
    "            # Catch all other exceptions like network issues or parsing problems\n",
    "            print(f\"Failed to process {file_name}: {e}\")\n",
    "    \n",
    "    return results"
   ]
  },
  {
   "cell_type": "code",
   "execution_count": 9,
   "id": "2cc26abd-fc63-4d82-a9df-60fb5a859c84",
   "metadata": {},
   "outputs": [
    {
     "data": {
      "text/plain": [
       "[]"
      ]
     },
     "execution_count": 9,
     "metadata": {},
     "output_type": "execute_result"
    }
   ],
   "source": [
    "read_json_files_in_github()"
   ]
  },
  {
   "cell_type": "code",
   "execution_count": null,
   "id": "529f08db-c58a-486d-a1db-3ac87643eaf6",
   "metadata": {},
   "outputs": [],
   "source": []
  }
 ],
 "metadata": {
  "kernelspec": {
   "display_name": "Python 3 (ipykernel)",
   "language": "python",
   "name": "python3"
  },
  "language_info": {
   "codemirror_mode": {
    "name": "ipython",
    "version": 3
   },
   "file_extension": ".py",
   "mimetype": "text/x-python",
   "name": "python",
   "nbconvert_exporter": "python",
   "pygments_lexer": "ipython3",
   "version": "3.12.6"
  }
 },
 "nbformat": 4,
 "nbformat_minor": 5
}
